{
 "cells": [
  {
   "cell_type": "code",
   "execution_count": 1,
   "metadata": {},
   "outputs": [
    {
     "data": {
      "text/html": [
       "<style>.container { width:100% !important; }</style>"
      ],
      "text/plain": [
       "<IPython.core.display.HTML object>"
      ]
     },
     "metadata": {},
     "output_type": "display_data"
    }
   ],
   "source": [
    "#To increase cell width of ipynb\n",
    "from IPython.core.display import display, HTML\n",
    "display(HTML(\"<style>.container { width:100% !important; }</style>\"))"
   ]
  },
  {
   "cell_type": "code",
   "execution_count": null,
   "metadata": {},
   "outputs": [],
   "source": [
    "import tensorflow as tf\n",
    "from collections import defaultdict\n",
    "import gzip\n",
    "import cv2 as cv\n",
    "import os\n",
    "import numpy as np\n",
    "import random"
   ]
  },
  {
   "cell_type": "code",
   "execution_count": 4,
   "metadata": {},
   "outputs": [],
   "source": [
    "def extract_data(filepath):\n",
    "    data = []\n",
    "    data_labels = []\n",
    "    IMG_SIZE = 100\n",
    "    IMG_SHAPE = (IMG_SIZE, IMG_SIZE, 3)\n",
    "    vgg = tf.contrib.keras.applications.VGG16(input_shape=IMG_SHAPE, weights=\"imagenet\", include_top=False)\n",
    "    for label in os.listdir(filepath):\n",
    "        label_path = os.path.join(filepath, label)\n",
    "        count = 0\n",
    "        list = len(os.listdir(label_path))\n",
    "        for img in os.listdir(label_path):\n",
    "            image_path = os.path.join(label_path, img)\n",
    "            image = cv.imread(image_path)\n",
    "            re_image = cv.resize(image, (IMG_SIZE, IMG_SIZE))\n",
    "            # grayImage = cv.cvtColor(image, cv.COLOR_BGR2GRAY)\n",
    "            # (thresh, BW) = cv.threshold(grayImage, 127, 255, cv.THRESH_BINARY)\n",
    "            data.append(re_image)\n",
    "            data_labels.append(label)\n",
    "\n",
    "    data = np.array(data, dtype=\"float\") / 255.0\n",
    "    features = vgg.predict(data, batch_size=10)\n",
    "    features_flatten = features.reshape((features.shape[0], 3 * 3 * 512))\n",
    "    # data = data.reshape(data.shape[0], 50, 50, 3)\n",
    "    data_labels = np.array(data_labels)\n",
    "    label_names = np.unique(data_labels)\n",
    "    # data_labels = tf.one_hot(indices=data_labels, depth=10)\n",
    "    print(features_flatten.shape)\n",
    "    return features_flatten, data_labels, label_names"
   ]
  },
  {
   "cell_type": "code",
   "execution_count": 5,
   "metadata": {},
   "outputs": [
    {
     "name": "stdout",
     "output_type": "stream",
     "text": [
      "\n",
      "..........loading dataset from disk..........\n",
      "\n",
      "(6578, 4608)\n"
     ]
    }
   ],
   "source": [
    "if __name__ == \"__main__\":\n",
    "       \n",
    "    train_data_path = '../Fruit_dataset/Train'\n",
    "    test_data_path = '../Fruit_dataset/Test'\n",
    "\n",
    "    # For easier disk read operation\n",
    "    np_train_path = '../Fruit_dataset/extracted_features/train.npy.gz'\n",
    "    np_test_path = '../Fruit_dataset/extracted_features/test.npy.gz'\n",
    "    np_train_label_path = '../Fruit_dataset/extracted_features/train_labels.npy'\n",
    "    np_test_label_path = '../Fruit_dataset/extracted_features/test_labels.npy'\n",
    "    np_label_name_path = '../Fruit_dataset/extracted_features/label_names.npy'\n",
    "\n",
    "    print(\"\\n..........loading dataset from disk..........\\n\")\n",
    "    train_data, train_labels, label_names = extract_data(train_data_path)\n",
    "    test_data, test_labels, _ = extract_data(test_data_path)\n",
    "\n",
    "    os.makedirs(os.path.dirname(np_train_path), exist_ok=True)\n",
    "\n",
    "    with gzip.GzipFile(np_train_path, \"w\") as f:\n",
    "        np.save(f, train_data)\n",
    "    with gzip.GzipFile(np_test_path, \"w\") as f:\n",
    "        np.save(f, test_data)\n",
    "\n",
    "    np.save(np_train_label_path, train_labels)\n",
    "    np.save(np_test_label_path, test_labels)\n",
    "    np.save(np_label_name_path, label_names)"
   ]
  },
  {
   "cell_type": "code",
   "execution_count": null,
   "metadata": {},
   "outputs": [],
   "source": []
  }
 ],
 "metadata": {
  "kernelspec": {
   "display_name": "env",
   "language": "python",
   "name": "env"
  },
  "language_info": {
   "codemirror_mode": {
    "name": "ipython",
    "version": 3
   },
   "file_extension": ".py",
   "mimetype": "text/x-python",
   "name": "python",
   "nbconvert_exporter": "python",
   "pygments_lexer": "ipython3",
   "version": "3.6.9"
  }
 },
 "nbformat": 4,
 "nbformat_minor": 4
}
