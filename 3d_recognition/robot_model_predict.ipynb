{
 "cells": [
  {
   "cell_type": "code",
   "execution_count": 36,
   "metadata": {},
   "outputs": [],
   "source": [
    "import tensorflow as tf\n",
    "import gzip\n",
    "import cv2 as cv\n",
    "import os\n",
    "import numpy as np"
   ]
  },
  {
   "cell_type": "code",
   "execution_count": 37,
   "metadata": {},
   "outputs": [],
   "source": [
    "def load_model():\n",
    "    \n",
    "    global mobilenet\n",
    "    mobilenet = tf.keras.applications.MobileNetV2(input_shape=IMG_SHAPE, weights=\"imagenet\")\n",
    "    mobilenet.trainable = False\n",
    "    mobilenet = tf.keras.Model(inputs=mobilenet.input, outputs=[mobilenet.layers[-2].output])\n",
    "    \n",
    "    saver = tf.train.import_meta_graph('../Saved_Models/Final_Model/3D_DEN.meta')\n",
    "    saver.restore(sess,tf.train.latest_checkpoint('../Saved_Models/Final_Model'))\n",
    "    graph = tf.get_default_graph()\n",
    "    global x\n",
    "    x = tf.placeholder(tf.float32, [None, 1280])\n",
    "#     x = graph.get_tensor_by_name(\"Placeholder:0\")\n",
    "#     print(x)\n",
    "\n",
    "    # #flattened first fc layer\n",
    "    W_fc1 = graph.get_tensor_by_name(\"l1/w:0\")\t\t# layer-1 outgoing weight matrix\n",
    "    b_fc1 = graph.get_tensor_by_name(\"l1/b:0\")\n",
    "\n",
    "    h_fc1 = tf.nn.relu(tf.matmul(x, W_fc1) + b_fc1)\n",
    "\n",
    "    # #second fc layer\n",
    "    W_fc2 = graph.get_tensor_by_name(\"l2/w:0\")\t\t# layer-2 outgoing weight matrix\n",
    "    b_fc2 = graph.get_tensor_by_name(\"l2/b:0\")\n",
    "\n",
    "    h_fc2 = tf.nn.relu(tf.matmul(h_fc1, W_fc2) + b_fc2)\n",
    "\n",
    "    w_fc = graph.get_tensor_by_name(\"l3/w:0\")\n",
    "    b_fc = graph.get_tensor_by_name(\"l3/b:0\")\n",
    "\n",
    "    global y_final\n",
    "    y_final = tf.matmul(h_fc2, w_fc) + b_fc\n",
    "    y_final = tf.nn.softmax(y_final)\n",
    "\n",
    "    sess.run(tf.global_variables_initializer())"
   ]
  },
  {
   "cell_type": "code",
   "execution_count": 38,
   "metadata": {},
   "outputs": [],
   "source": [
    "def predict():\n",
    "    \n",
    "    test = []\n",
    "    test_labels = []\n",
    "    data_path = '../ModelNet40/temp'\n",
    "    labels = np.load('../Saved_Models/Final_Model/final_labels.npy')\n",
    "    \n",
    "    for label in sorted(os.listdir(data_path)):\n",
    "        label_path = os.path.join(data_path, label)\n",
    "\n",
    "        for file in (os.listdir(label_path)):\n",
    "            file_path = os.path.join(label_path, file)\n",
    "\n",
    "            if str(file) == \"test\":\n",
    "                for instance in sorted(os.listdir(file_path)):\n",
    "                    instance_path = os.path.join(file_path, instance)\n",
    "                    test_views = []\n",
    "\n",
    "                    for img in sorted(os.listdir(instance_path)):\n",
    "                        img_path = os.path.join(instance_path, img)\n",
    "                        image = cv.imread(img_path, cv.IMREAD_GRAYSCALE)\n",
    "                        re_image = cv.resize(image, (IMG_SIZE, IMG_SIZE))\n",
    "                        test_views.append(re_image)\n",
    "                    image2 = cv.merge(test_views)\n",
    "                    test.append(image2)\n",
    "                    test_labels.append(label)\n",
    "                    break\n",
    "        break\n",
    "    #                 cv.imshow(\"image\", image)\n",
    "    #                 cv.waitKey(0)\n",
    "    #                 cv.destroyAllWindows()\n",
    "    #                 cv.imwrite(\"./2.jpg\", image1)\n",
    "    #                 break\n",
    "    \n",
    "    test = np.array(test, dtype=\"float\") / 255.0\n",
    "    test_features = mobilenet.predict(test, batch_size=5)\n",
    "    \n",
    "    prediction = tf.argmax(y_final,1)\n",
    "    p = prediction.eval(session=sess, feed_dict={x: test_features})\n",
    "    \n",
    "    print(\"Predicted: \", labels[p[0]])\n",
    "    \n",
    "    print(\"Actual: \", test_labels[0])\n",
    "    \n",
    "    # self.acc_test = tf.reduce_mean(tf.cast(correct_prediction, tf.float32))\n",
    "    # test_accuracy = self.acc_test.eval(session=self.sess, feed_dict={self.x: self.test, self.y_: task_test_labels})\n",
    "    # return test_accuracy"
   ]
  },
  {
   "cell_type": "code",
   "execution_count": 40,
   "metadata": {},
   "outputs": [
    {
     "name": "stdout",
     "output_type": "stream",
     "text": [
      "INFO:tensorflow:Restoring parameters from ../Saved_Models/Final_Model/3D_DEN\n",
      "Predicted:  keyboard\n",
      "Actual:  keyboard\n"
     ]
    }
   ],
   "source": [
    "IMG_SIZE = 128\n",
    "IMG_SHAPE = (IMG_SIZE, IMG_SIZE, 3)\n",
    "sess = tf.Session()\n",
    "load_model()\n",
    "predict()"
   ]
  },
  {
   "cell_type": "code",
   "execution_count": null,
   "metadata": {},
   "outputs": [],
   "source": []
  }
 ],
 "metadata": {
  "kernelspec": {
   "display_name": "env",
   "language": "python",
   "name": "env"
  },
  "language_info": {
   "codemirror_mode": {
    "name": "ipython",
    "version": 3
   },
   "file_extension": ".py",
   "mimetype": "text/x-python",
   "name": "python",
   "nbconvert_exporter": "python",
   "pygments_lexer": "ipython3",
   "version": "3.6.9"
  }
 },
 "nbformat": 4,
 "nbformat_minor": 4
}
