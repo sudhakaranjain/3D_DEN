{
 "cells": [
  {
   "cell_type": "code",
   "execution_count": 7,
   "metadata": {},
   "outputs": [
    {
     "data": {
      "text/html": [
       "<style>.container { width:100% !important; }</style>"
      ],
      "text/plain": [
       "<IPython.core.display.HTML object>"
      ]
     },
     "metadata": {},
     "output_type": "display_data"
    }
   ],
   "source": [
    "#To increase cell width of ipynb\n",
    "from IPython.core.display import display, HTML\n",
    "display(HTML(\"<style>.container { width:100% !important; }</style>\"))"
   ]
  },
  {
   "cell_type": "code",
   "execution_count": null,
   "metadata": {},
   "outputs": [],
   "source": [
    "import tensorflow as tf\n",
    "from tensorboard.plugins.hparams import api as hp\n",
    "import gzip\n",
    "import cv2 as cv\n",
    "import os\n",
    "import numpy as np"
   ]
  },
  {
   "cell_type": "code",
   "execution_count": null,
   "metadata": {},
   "outputs": [],
   "source": [
    "HP_NUM_UNITS1 = hp.HParam('num_units1', hp.Discrete([2048, 1024, 512]))\n",
    "HP_NUM_UNITS2 = hp.HParam('num_units2', hp.Discrete([512, 256, 128]))\n",
    "HP_OPTIMIZER = hp.HParam('optimizer', hp.Discrete(['adam', 'sgd']))\n",
    "\n",
    "METRIC_ACCURACY = 'accuracy'\n",
    "\n",
    "with tf.summary.create_file_writer('vgg_logs/hparam_tuning').as_default():\n",
    "    hp.hparams_config(\n",
    "        hparams=[HP_NUM_UNITS1, HP_NUM_UNITS2, HP_OPTIMIZER],\n",
    "        metrics=[hp.Metric(METRIC_ACCURACY, display_name='Accuracy')],\n",
    "  )"
   ]
  },
  {
   "cell_type": "code",
   "execution_count": null,
   "metadata": {},
   "outputs": [],
   "source": [
    "# For easier disk read operation\n",
    "#  MobileNetV2\n",
    "# np_train_path = '../../ModelNet40/extracted_features/MobileNetV2/train.npy.gz'\n",
    "# np_test_path = '../../ModelNet40/extracted_features/MobileNetV2/test.npy.gz'\n",
    "# np_train_label_path = '../../ModelNet40/extracted_features/MobileNetV2/train_labels.npy'\n",
    "# np_test_label_path = '../../ModelNet40/extracted_features/MobileNetV2/test_labels.npy'\n",
    "# np_label_names_path = '../../ModelNet40/extracted_features/MobileNetV2/label_names.npy'\n",
    "\n",
    "#  VGG16\n",
    "np_train_path = '../../ModelNet40/extracted_features/VGG16/train.npy.gz'\n",
    "np_test_path = '../../ModelNet40/extracted_features/VGG16/test.npy.gz'\n",
    "np_train_label_path = '../../ModelNet40/extracted_features/VGG16/train_labels.npy'\n",
    "np_test_label_path = '../../ModelNet40/extracted_features/VGG16/test_labels.npy'\n",
    "np_label_names_path = '../../ModelNet40/extracted_features/VGG16/label_names.npy'\n",
    "\n",
    "print(\"\\n..........loading dataset from numpy files..........\\n\")\n",
    "\n",
    "with gzip.GzipFile(np_train_path, \"r\") as f:\n",
    "    x_train = np.load(f)\n",
    "with gzip.GzipFile(np_test_path, \"r\") as f:\n",
    "    x_test = np.load(f)\n",
    "\n",
    "y_train = np.load(np_train_label_path)\n",
    "y_test = np.load(np_test_label_path)\n",
    "label_names = np.load(np_label_names_path)\n",
    "for i, y in enumerate(y_train):\n",
    "    index = np.searchsorted(label_names, y)\n",
    "    y_train[i] = index\n",
    "\n",
    "for i, y in enumerate(y_test):\n",
    "    index = np.searchsorted(label_names, y)\n",
    "    y_test[i] = index\n",
    "    \n",
    "y_train = tf.one_hot(indices=y_train, depth=len(label_names))\n",
    "y_test = tf.one_hot(indices=y_test, depth=len(label_names))\n",
    "# print(y_train)\n",
    "# print(y_test)"
   ]
  },
  {
   "cell_type": "code",
   "execution_count": null,
   "metadata": {},
   "outputs": [],
   "source": [
    "def train_test_model(hparams):\n",
    "\n",
    "    model = tf.keras.Sequential()\n",
    "    model.add(tf.keras.layers.Dense(hparams[HP_NUM_UNITS1], activation=None))\n",
    "    model.add(tf.keras.layers.BatchNormalization())\n",
    "    model.add(tf.keras.layers.Activation(\"relu\"))\n",
    "    model.add(tf.keras.layers.Dense(hparams[HP_NUM_UNITS2], activation=None))\n",
    "    model.add(tf.keras.layers.BatchNormalization())\n",
    "    model.add(tf.keras.layers.Activation(\"relu\"))\n",
    "    model.add(tf.keras.layers.Dense(40, activation=tf.nn.softmax))\n",
    "\n",
    "    model.compile(\n",
    "        optimizer=hparams[HP_OPTIMIZER],\n",
    "        loss='categorical_crossentropy',\n",
    "        metrics=['accuracy'],\n",
    ")\n",
    "    model.fit(x_train, y_train, epochs=50) # Run with 1 epoch to speed things up for demo purposes\n",
    "    _, accuracy = model.evaluate(x_test, y_test)\n",
    "    return accuracy"
   ]
  },
  {
   "cell_type": "code",
   "execution_count": null,
   "metadata": {},
   "outputs": [],
   "source": [
    "def run(run_dir, hparams):\n",
    "    \n",
    "    with tf.summary.create_file_writer(run_dir).as_default():\n",
    "        hp.hparams(hparams)  # record the values used in this trial\n",
    "        accuracy = train_test_model(hparams)\n",
    "        tf.summary.scalar(METRIC_ACCURACY, accuracy, step=1)"
   ]
  },
  {
   "cell_type": "code",
   "execution_count": null,
   "metadata": {},
   "outputs": [],
   "source": [
    "session_num = 0\n",
    "\n",
    "for num_units1 in HP_NUM_UNITS1.domain.values:\n",
    "    for num_units2 in HP_NUM_UNITS2.domain.values:\n",
    "        for optimizer in HP_OPTIMIZER.domain.values:\n",
    "            hparams = {\n",
    "              HP_NUM_UNITS1: num_units1,\n",
    "              HP_NUM_UNITS2: num_units2,\n",
    "              HP_OPTIMIZER: optimizer,\n",
    "          } \n",
    "            run_name = \"run-%d\" % session_num\n",
    "            print('--- Starting trial: %s' % run_name)\n",
    "            print({h.name: hparams[h] for h in hparams})\n",
    "            run('vgg_logs/hparam_tuning/' + run_name, hparams)\n",
    "            session_num += 1"
   ]
  },
  {
   "cell_type": "code",
   "execution_count": null,
   "metadata": {},
   "outputs": [],
   "source": [
    "# %load_ext tensorboard\n",
    "# %tensorboard --logdir vgg_logs/hparam_tuning"
   ]
  }
 ],
 "metadata": {
  "kernelspec": {
   "display_name": "env_2",
   "language": "python",
   "name": "env_2"
  },
  "language_info": {
   "codemirror_mode": {
    "name": "ipython",
    "version": 3
   },
   "file_extension": ".py",
   "mimetype": "text/x-python",
   "name": "python",
   "nbconvert_exporter": "python",
   "pygments_lexer": "ipython3",
   "version": "3.6.9"
  }
 },
 "nbformat": 4,
 "nbformat_minor": 4
}
