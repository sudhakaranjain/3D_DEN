{
 "cells": [
  {
   "cell_type": "code",
   "execution_count": 6,
   "metadata": {},
   "outputs": [
    {
     "data": {
      "text/html": [
       "<style>.container { width:100% !important; }</style>"
      ],
      "text/plain": [
       "<IPython.core.display.HTML object>"
      ]
     },
     "metadata": {},
     "output_type": "display_data"
    }
   ],
   "source": [
    "#To increase cell width of ipynb\n",
    "from IPython.core.display import display, HTML\n",
    "display(HTML(\"<style>.container { width:100% !important; }</style>\"))"
   ]
  },
  {
   "cell_type": "code",
   "execution_count": 7,
   "metadata": {},
   "outputs": [],
   "source": [
    "import tensorflow as tf\n",
    "from collections import defaultdict\n",
    "import gzip\n",
    "import cv2 as cv\n",
    "import os\n",
    "import numpy as np\n",
    "import random"
   ]
  },
  {
   "cell_type": "code",
   "execution_count": 8,
   "metadata": {},
   "outputs": [],
   "source": [
    "def extract_data(self):\n",
    "    train = []\n",
    "    test = []\n",
    "    train_labels = []\n",
    "    test_labels = []\n",
    "    label_names = []\n",
    "    IMG_SIZE = 128\n",
    "    IMG_SHAPE = (IMG_SIZE, IMG_SIZE, 3)\n",
    "\n",
    "    mobilenet = tf.keras.applications.MobileNetV2(input_shape=IMG_SHAPE, weights=\"imagenet\", include_top=False)\n",
    "    mobilenet.trainable = False\n",
    "#     print(mobilenet.layers[-1].output)\n",
    "    \n",
    "    print(\"\\n..........loading dataset from disk..........\\n\")\n",
    "\n",
    "    for label in sorted(os.listdir(data_path)):\n",
    "        label_path = os.path.join(data_path, label)\n",
    "\n",
    "        for file in (os.listdir(label_path)):\n",
    "            file_path = os.path.join(label_path, file)\n",
    "\n",
    "            if str(file) == \"train\":\n",
    "                for instance in sorted(os.listdir(file_path)):\n",
    "                    instance_path = os.path.join(file_path, instance)\n",
    "                    train_views = []\n",
    "\n",
    "                    for img in sorted(os.listdir(instance_path)):\n",
    "                        img_path = os.path.join(instance_path, img)\n",
    "                        image = cv.imread(img_path, cv.IMREAD_GRAYSCALE)\n",
    "                        re_image = cv.resize(image, (IMG_SIZE, IMG_SIZE))\n",
    "                        train_views.append(re_image)\n",
    "                    image1 = cv.merge(train_views)\n",
    "                    train.append(image1)\n",
    "                    train_labels.append(label)\n",
    "    #                 cv.imshow(\"image\", image)\n",
    "    #                 cv.waitKey(0)\n",
    "    #                 cv.destroyAllWindows()\n",
    "    #                 cv.imwrite(\"./2.jpg\", image1)\n",
    "    #                 break\n",
    "\n",
    "            elif str(file) == \"test\":\n",
    "                for instance in sorted(os.listdir(file_path)):\n",
    "                    instance_path = os.path.join(file_path, instance)\n",
    "                    test_views = []\n",
    "\n",
    "                    for img in sorted(os.listdir(instance_path)):\n",
    "                        img_path = os.path.join(instance_path, img)\n",
    "                        image = cv.imread(img_path, cv.IMREAD_GRAYSCALE)\n",
    "                        re_image = cv.resize(image, (IMG_SIZE, IMG_SIZE))\n",
    "                        test_views.append(re_image)\n",
    "                    image2 = cv.merge(test_views)\n",
    "                    test.append(image2)\n",
    "                    test_labels.append(label)\n",
    "\n",
    "    train = np.array(train, dtype=\"float\") / 255.0\n",
    "    train_features = mobilenet.predict(train, batch_size=5)\n",
    "    print(train_features.shape)\n",
    "    train_features_flatten = train_features.reshape((train_features.shape[0], train_features.shape[1] * train_features.shape[2] * train_features.shape[3]))\n",
    "#     train = train.reshape(train.shape[0], 128, 128, 3)\n",
    "    train_labels = np.array(train_labels)\n",
    "\n",
    "    test = np.array(test, dtype=\"float\") / 255.0\n",
    "    test_features = mobilenet.predict(test, batch_size=5)\n",
    "    print(test_features.shape)\n",
    "    test_features_flatten = test_features.reshape((test_features.shape[0], test_features.shape[1] * test_features.shape[2] * test_features.shape[3]))\n",
    "#     test = test.reshape(test.shape[0], 128, 128, 3)\n",
    "    test_labels = np.array(test_labels)\n",
    "\n",
    "    label_names = np.unique(train_labels)\n",
    "\n",
    "    return train_features_flatten, train_labels, test_features_flatten, test_labels, label_names"
   ]
  },
  {
   "cell_type": "code",
   "execution_count": 9,
   "metadata": {},
   "outputs": [
    {
     "name": "stdout",
     "output_type": "stream",
     "text": [
      "\n",
      "..........loading dataset from disk..........\n",
      "\n",
      "(9843, 4, 4, 1280)\n",
      "(2468, 4, 4, 1280)\n"
     ]
    }
   ],
   "source": [
    "if __name__ == \"__main__\":\n",
    "    \n",
    "    data_path = '../ModelNet40/image_dataset'\n",
    "    \n",
    "    np_train_path = '../ModelNet40/extracted_features/MobileNetV2/train.npy.gz'\n",
    "    np_test_path = '../ModelNet40/extracted_features/MobileNetV2/test.npy.gz'\n",
    "    np_train_label_path = '../ModelNet40/extracted_features/MobileNetV2/train_labels.npy'\n",
    "    np_test_label_path = '../ModelNet40/extracted_features/MobileNetV2/test_labels.npy'\n",
    "    np_label_names_path = '../ModelNet40/extracted_features/MobileNetV2/label_names.npy'\n",
    "\n",
    "    train_data, train_labels, test_data, test_labels, label_names = extract_data(data_path)\n",
    "\n",
    "    os.makedirs(os.path.dirname(np_train_path), exist_ok=True)\n",
    "\n",
    "    with gzip.GzipFile(np_train_path, \"w\") as f:\n",
    "        np.save(f, train_data)\n",
    "    with gzip.GzipFile(np_test_path, \"w\") as f:\n",
    "        np.save(f, test_data)\n",
    "\n",
    "    np.save(np_train_label_path, train_labels)\n",
    "    np.save(np_test_label_path, test_labels)\n",
    "    np.save(np_label_names_path, label_names)"
   ]
  },
  {
   "cell_type": "code",
   "execution_count": null,
   "metadata": {},
   "outputs": [],
   "source": []
  }
 ],
 "metadata": {
  "kernelspec": {
   "display_name": "env",
   "language": "python",
   "name": "env"
  },
  "language_info": {
   "codemirror_mode": {
    "name": "ipython",
    "version": 3
   },
   "file_extension": ".py",
   "mimetype": "text/x-python",
   "name": "python",
   "nbconvert_exporter": "python",
   "pygments_lexer": "ipython3",
   "version": "3.6.9"
  }
 },
 "nbformat": 4,
 "nbformat_minor": 4
}
