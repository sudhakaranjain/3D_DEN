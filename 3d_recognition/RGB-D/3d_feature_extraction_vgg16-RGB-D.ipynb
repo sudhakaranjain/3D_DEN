{
 "cells": [
  {
   "cell_type": "code",
   "execution_count": 1,
   "metadata": {},
   "outputs": [
    {
     "data": {
      "text/html": [
       "<style>.container { width:100% !important; }</style>"
      ],
      "text/plain": [
       "<IPython.core.display.HTML object>"
      ]
     },
     "metadata": {},
     "output_type": "display_data"
    }
   ],
   "source": [
    "#To increase cell width of ipynb\n",
    "from IPython.core.display import display, HTML\n",
    "display(HTML(\"<style>.container { width:100% !important; }</style>\"))"
   ]
  },
  {
   "cell_type": "code",
   "execution_count": 1,
   "metadata": {},
   "outputs": [
    {
     "name": "stderr",
     "output_type": "stream",
     "text": [
      "/home/sudhakaran/Desktop/3d_recognition_thesis/env/lib/python3.6/site-packages/tensorflow/python/framework/dtypes.py:516: FutureWarning: Passing (type, 1) or '1type' as a synonym of type is deprecated; in a future version of numpy, it will be understood as (type, (1,)) / '(1,)type'.\n",
      "  _np_qint8 = np.dtype([(\"qint8\", np.int8, 1)])\n",
      "/home/sudhakaran/Desktop/3d_recognition_thesis/env/lib/python3.6/site-packages/tensorflow/python/framework/dtypes.py:517: FutureWarning: Passing (type, 1) or '1type' as a synonym of type is deprecated; in a future version of numpy, it will be understood as (type, (1,)) / '(1,)type'.\n",
      "  _np_quint8 = np.dtype([(\"quint8\", np.uint8, 1)])\n",
      "/home/sudhakaran/Desktop/3d_recognition_thesis/env/lib/python3.6/site-packages/tensorflow/python/framework/dtypes.py:518: FutureWarning: Passing (type, 1) or '1type' as a synonym of type is deprecated; in a future version of numpy, it will be understood as (type, (1,)) / '(1,)type'.\n",
      "  _np_qint16 = np.dtype([(\"qint16\", np.int16, 1)])\n",
      "/home/sudhakaran/Desktop/3d_recognition_thesis/env/lib/python3.6/site-packages/tensorflow/python/framework/dtypes.py:519: FutureWarning: Passing (type, 1) or '1type' as a synonym of type is deprecated; in a future version of numpy, it will be understood as (type, (1,)) / '(1,)type'.\n",
      "  _np_quint16 = np.dtype([(\"quint16\", np.uint16, 1)])\n",
      "/home/sudhakaran/Desktop/3d_recognition_thesis/env/lib/python3.6/site-packages/tensorflow/python/framework/dtypes.py:520: FutureWarning: Passing (type, 1) or '1type' as a synonym of type is deprecated; in a future version of numpy, it will be understood as (type, (1,)) / '(1,)type'.\n",
      "  _np_qint32 = np.dtype([(\"qint32\", np.int32, 1)])\n",
      "/home/sudhakaran/Desktop/3d_recognition_thesis/env/lib/python3.6/site-packages/tensorflow/python/framework/dtypes.py:525: FutureWarning: Passing (type, 1) or '1type' as a synonym of type is deprecated; in a future version of numpy, it will be understood as (type, (1,)) / '(1,)type'.\n",
      "  np_resource = np.dtype([(\"resource\", np.ubyte, 1)])\n",
      "/home/sudhakaran/Desktop/3d_recognition_thesis/env/lib/python3.6/site-packages/tensorboard/compat/tensorflow_stub/dtypes.py:541: FutureWarning: Passing (type, 1) or '1type' as a synonym of type is deprecated; in a future version of numpy, it will be understood as (type, (1,)) / '(1,)type'.\n",
      "  _np_qint8 = np.dtype([(\"qint8\", np.int8, 1)])\n",
      "/home/sudhakaran/Desktop/3d_recognition_thesis/env/lib/python3.6/site-packages/tensorboard/compat/tensorflow_stub/dtypes.py:542: FutureWarning: Passing (type, 1) or '1type' as a synonym of type is deprecated; in a future version of numpy, it will be understood as (type, (1,)) / '(1,)type'.\n",
      "  _np_quint8 = np.dtype([(\"quint8\", np.uint8, 1)])\n",
      "/home/sudhakaran/Desktop/3d_recognition_thesis/env/lib/python3.6/site-packages/tensorboard/compat/tensorflow_stub/dtypes.py:543: FutureWarning: Passing (type, 1) or '1type' as a synonym of type is deprecated; in a future version of numpy, it will be understood as (type, (1,)) / '(1,)type'.\n",
      "  _np_qint16 = np.dtype([(\"qint16\", np.int16, 1)])\n",
      "/home/sudhakaran/Desktop/3d_recognition_thesis/env/lib/python3.6/site-packages/tensorboard/compat/tensorflow_stub/dtypes.py:544: FutureWarning: Passing (type, 1) or '1type' as a synonym of type is deprecated; in a future version of numpy, it will be understood as (type, (1,)) / '(1,)type'.\n",
      "  _np_quint16 = np.dtype([(\"quint16\", np.uint16, 1)])\n",
      "/home/sudhakaran/Desktop/3d_recognition_thesis/env/lib/python3.6/site-packages/tensorboard/compat/tensorflow_stub/dtypes.py:545: FutureWarning: Passing (type, 1) or '1type' as a synonym of type is deprecated; in a future version of numpy, it will be understood as (type, (1,)) / '(1,)type'.\n",
      "  _np_qint32 = np.dtype([(\"qint32\", np.int32, 1)])\n",
      "/home/sudhakaran/Desktop/3d_recognition_thesis/env/lib/python3.6/site-packages/tensorboard/compat/tensorflow_stub/dtypes.py:550: FutureWarning: Passing (type, 1) or '1type' as a synonym of type is deprecated; in a future version of numpy, it will be understood as (type, (1,)) / '(1,)type'.\n",
      "  np_resource = np.dtype([(\"resource\", np.ubyte, 1)])\n"
     ]
    }
   ],
   "source": [
    "import tensorflow as tf\n",
    "from collections import defaultdict\n",
    "import gzip\n",
    "import cv2 as cv\n",
    "import os\n",
    "import numpy as np\n",
    "import random"
   ]
  },
  {
   "cell_type": "code",
   "execution_count": 6,
   "metadata": {},
   "outputs": [],
   "source": [
    "def extract_data(self):\n",
    "    train = []\n",
    "    test = []\n",
    "    train_labels = []\n",
    "    test_labels = []\n",
    "    label_names = []\n",
    "    IMG_SIZE = 128\n",
    "    IMG_SHAPE = (IMG_SIZE, IMG_SIZE, 3)\n",
    "    train_features = np.empty((0,4,4,512), float)\n",
    "    test_features = np.empty((0,4,4,512), float)\n",
    "\n",
    "    vgg = tf.contrib.keras.applications.VGG16(input_shape=IMG_SHAPE, weights=\"imagenet\", include_top=False)\n",
    "    vgg.trainable = False\n",
    "    \n",
    "    print(\"\\n..........loading dataset from disk..........\\n\")\n",
    "\n",
    "    for train_or_test in os.listdir(data_path):\n",
    "        \n",
    "        projections_path = os.path.join(data_path, train_or_test)\n",
    "\n",
    "        projections = os.listdir(projections_path)\n",
    "        \n",
    "        labels_path = os.path.join(projections_path, projections[0])\n",
    "\n",
    "        labels =  os.listdir(labels_path)\n",
    "\n",
    "        for label in labels:\n",
    "\n",
    "            images_names =  os.listdir(os.path.join(labels_path, label))\n",
    "\n",
    "            for i in images_names:\n",
    "                image1 = cv.imread(data_path+\"/\"+str(train_or_test)+\"/\"+str(projections[0])+\"/\"+str(label)+\"/\"+str(i), cv.IMREAD_GRAYSCALE)\n",
    "                image2 = cv.imread(data_path+\"/\"+str(train_or_test)+\"/\"+str(projections[1])+\"/\"+str(label)+\"/\"+str(i), cv.IMREAD_GRAYSCALE)\n",
    "                image3 = cv.imread(data_path+\"/\"+str(train_or_test)+\"/\"+str(projections[2])+\"/\"+str(label)+\"/\"+str(i), cv.IMREAD_GRAYSCALE)\n",
    "                image = cv.merge([image1, image2, image3])\n",
    "                if str(train_or_test) == \"train\":\n",
    "                    train_labels.append(label)\n",
    "                    train = np.array([image], dtype=\"float\") / 255.0\n",
    "                    train_features = np.concatenate((train_features, vgg.predict(train)), axis=0)\n",
    "                    \n",
    "                elif str(train_or_test) == \"test\":\n",
    "                    test_labels.append(label)\n",
    "                    test = np.array([image], dtype=\"float\") / 255.0\n",
    "                    test_features = np.concatenate((test_features, vgg.predict(test)), axis=0)\n",
    "    \n",
    "    print(train_features.shape)\n",
    "    train_features_flatten = train_features.reshape((train_features.shape[0], train_features.shape[1] * train_features.shape[2] * train_features.shape[3]))\n",
    "    train_labels = np.array(train_labels)\n",
    "\n",
    "    print(test_features.shape)\n",
    "    test_features_flatten = test_features.reshape((test_features.shape[0], test_features.shape[1] * test_features.shape[2] * test_features.shape[3]))\n",
    "    test_labels = np.array(test_labels)\n",
    "\n",
    "    label_names = np.unique(train_labels)\n",
    "\n",
    "    return train_features_flatten, train_labels, test_features_flatten, test_labels, label_names"
   ]
  },
  {
   "cell_type": "code",
   "execution_count": null,
   "metadata": {},
   "outputs": [
    {
     "name": "stdout",
     "output_type": "stream",
     "text": [
      "\n",
      "..........loading dataset from disk..........\n",
      "\n"
     ]
    }
   ],
   "source": [
    "if __name__ == \"__main__\":\n",
    "    \n",
    "    data_path = '../../RGB-D/image_dataset'\n",
    "    \n",
    "    np_train_path = '../../RGB-D/extracted_features/VGG16/train.npy.gz'\n",
    "    np_test_path = '../../RGB-D/extracted_features/VGG16/test.npy.gz'\n",
    "    np_train_label_path = '../../RGB-D/extracted_features/VGG16/train_labels.npy'\n",
    "    np_test_label_path = '../../RGB-D/extracted_features/VGG16/test_labels.npy'\n",
    "    np_label_names_path = '../../RGB-D/extracted_features/VGG16/label_names.npy'\n",
    "\n",
    "    train_data, train_labels, test_data, test_labels, label_names = extract_data(data_path)\n",
    "\n",
    "    os.makedirs(os.path.dirname(np_train_path), exist_ok=True)\n",
    "\n",
    "    with gzip.GzipFile(np_train_path, \"w\") as f:\n",
    "        np.save(f, train_data)\n",
    "    with gzip.GzipFile(np_test_path, \"w\") as f:\n",
    "        np.save(f, test_data)\n",
    "\n",
    "    np.save(np_train_label_path, train_labels)\n",
    "    np.save(np_test_label_path, test_labels)\n",
    "    np.save(np_label_names_path, label_names)"
   ]
  },
  {
   "cell_type": "code",
   "execution_count": null,
   "metadata": {},
   "outputs": [],
   "source": []
  }
 ],
 "metadata": {
  "kernelspec": {
   "display_name": "env",
   "language": "python",
   "name": "env"
  },
  "language_info": {
   "codemirror_mode": {
    "name": "ipython",
    "version": 3
   },
   "file_extension": ".py",
   "mimetype": "text/x-python",
   "name": "python",
   "nbconvert_exporter": "python",
   "pygments_lexer": "ipython3",
   "version": "3.6.9"
  }
 },
 "nbformat": 4,
 "nbformat_minor": 4
}
