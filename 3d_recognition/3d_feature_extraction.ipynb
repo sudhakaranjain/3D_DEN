{
 "cells": [
  {
   "cell_type": "code",
   "execution_count": 1,
   "metadata": {},
   "outputs": [],
   "source": [
    "import tensorflow as tf\n",
    "from collections import defaultdict\n",
    "import gzip\n",
    "import cv2 as cv\n",
    "import os\n",
    "import numpy as np\n",
    "import random"
   ]
  },
  {
   "cell_type": "code",
   "execution_count": 2,
   "metadata": {},
   "outputs": [],
   "source": [
    "# Due to high RAM consumption when extracting features from all views together, the program was modified to take\n",
    "# one view. Re-run the program by changing view numbers (i.e 1,6,10) and path to save features of all views.\n",
    "def extract_data(filepath):\n",
    "    tr_data1 = []\n",
    "    te_data1 = []\n",
    "    tr_data_labels = []\n",
    "    te_data_labels = []\n",
    "    \n",
    "    IMG_SIZE = 100\n",
    "    IMG_SHAPE = (IMG_SIZE, IMG_SIZE, 3)\n",
    "    vgg = tf.contrib.keras.applications.VGG16(input_shape=IMG_SHAPE, weights=\"imagenet\", include_top=False)\n",
    "    vgg.trainable = False\n",
    "    for label in sorted(os.listdir(filepath)):\n",
    "        label_path = os.path.join(filepath, label)\n",
    "\n",
    "        for files in sorted(os.listdir(label_path)):\n",
    "            instances_path = os.path.join(label_path, files)\n",
    "\n",
    "            if str(files) == 'test':\n",
    "                for instance in sorted(os.listdir(instances_path)):\n",
    "                    images_path = os.path.join(instances_path, instance)\n",
    "                    te_data_labels.append(label)\n",
    "                    for img in os.listdir(images_path):\n",
    "                        image_path = os.path.join(images_path, img)\n",
    "                        if int(img[0:-4]) == 10:\n",
    "                            image = cv.imread(image_path)\n",
    "                            re_image = cv.resize(image, (IMG_SIZE, IMG_SIZE))\n",
    "                            te_data1.append(re_image)\n",
    "                    \n",
    "            elif str(files) == 'train':\n",
    "                for instance in sorted(os.listdir(instances_path)):\n",
    "                    images_path = os.path.join(instances_path, instance)\n",
    "                    tr_data_labels.append(label)\n",
    "                    for img in os.listdir(images_path):\n",
    "                        image_path = os.path.join(images_path, img)\n",
    "                        if int(img[0:-4]) == 10:\n",
    "                            image = cv.imread(image_path)\n",
    "                            re_image = cv.resize(image, (IMG_SIZE, IMG_SIZE))\n",
    "                            tr_data1.append(re_image)              \n",
    "                \n",
    "    tr_data1 = np.array(tr_data1, dtype=\"float\") / 255.0\n",
    "    te_data1 = np.array(te_data1, dtype=\"float\") / 255.0\n",
    "    \n",
    "    tr_features = vgg.predict(tr_data1, batch_size=32)\n",
    "    tr_features_flatten1 = tr_features.reshape((tr_features.shape[0], 3 * 3 * 512))\n",
    "\n",
    "    te_features = vgg.predict(te_data1, batch_size=32)\n",
    "    te_features_flatten1 = te_features.reshape((te_features.shape[0], 3 * 3 * 512))\n",
    "    \n",
    "    # data = data.reshape(data.shape[0], 50, 50, 3)\n",
    "    tr_data_labels = np.array(tr_data_labels)\n",
    "    te_data_labels = np.array(te_data_labels)\n",
    "    label_names = np.unique(tr_data_labels)\n",
    "    # data_labels = tf.one_hot(indices=data_labels, depth=10)\n",
    "#     print(features_flatten.shape)\n",
    "    return tr_features_flatten1, tr_data_labels, \\\n",
    "            te_features_flatten1, te_data_labels, label_names"
   ]
  },
  {
   "cell_type": "code",
   "execution_count": 3,
   "metadata": {},
   "outputs": [
    {
     "name": "stdout",
     "output_type": "stream",
     "text": [
      "\n",
      "..........loading dataset from disk..........\n",
      "\n",
      "WARNING:tensorflow:From /home/sudhakaran/Desktop/3d_recognition_thesis/2d_recognition/venv/lib/python3.6/site-packages/tensorflow/python/ops/resource_variable_ops.py:435: colocate_with (from tensorflow.python.framework.ops) is deprecated and will be removed in a future version.\n",
      "Instructions for updating:\n",
      "Colocations handled automatically by placer.\n"
     ]
    }
   ],
   "source": [
    "if __name__ == \"__main__\":\n",
    "       \n",
    "    data_path = '../ModelNet40/image_dataset'\n",
    "\n",
    "    # For easier disk read operation\n",
    "    np_train_path1 = '../ModelNet40/extracted_features/train1.npy.gz'\n",
    "    np_train_path2 = '../ModelNet40/extracted_features/train2.npy.gz'\n",
    "    np_train_path3 = '../ModelNet40/extracted_features/train3.npy.gz'\n",
    "    np_test_path1 = '../ModelNet40/extracted_features/test1.npy.gz'\n",
    "    np_test_path2 = '../ModelNet40/extracted_features/test2.npy.gz'\n",
    "    np_test_path3 = '../ModelNet40/extracted_features/test3.npy.gz'\n",
    "    np_train_label_path = '../ModelNet40/extracted_features/train_labels.npy'\n",
    "    np_test_label_path = '../ModelNet40/extracted_features/test_labels.npy'\n",
    "    np_label_name_path = '../ModelNet40/extracted_features/label_names.npy'\n",
    "\n",
    "    print(\"\\n..........loading dataset from disk..........\\n\")\n",
    "#     extract_data(data_path)\n",
    "    train_data2, train_labels, \\\n",
    "    test_data2, test_labels, label_names = extract_data(data_path)\n",
    "\n",
    "    os.makedirs(os.path.dirname(np_train_path2), exist_ok=True)\n",
    "\n",
    "    with gzip.GzipFile(np_train_path3, \"w\") as f:\n",
    "        np.save(f, train_data2)\n",
    "    with gzip.GzipFile(np_test_path3, \"w\") as f:\n",
    "        np.save(f, test_data2)\n",
    "\n",
    "    np.save(np_train_label_path, train_labels)\n",
    "    np.save(np_test_label_path, test_labels)\n",
    "    np.save(np_label_name_path, label_names)"
   ]
  },
  {
   "cell_type": "code",
   "execution_count": null,
   "metadata": {},
   "outputs": [],
   "source": []
  }
 ],
 "metadata": {
  "kernelspec": {
   "display_name": "venv",
   "language": "python",
   "name": "venv"
  },
  "language_info": {
   "codemirror_mode": {
    "name": "ipython",
    "version": 3
   },
   "file_extension": ".py",
   "mimetype": "text/x-python",
   "name": "python",
   "nbconvert_exporter": "python",
   "pygments_lexer": "ipython3",
   "version": "3.6.9"
  }
 },
 "nbformat": 4,
 "nbformat_minor": 4
}
